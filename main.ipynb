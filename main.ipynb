{
 "cells": [
  {
   "cell_type": "markdown",
   "id": "conservative-family",
   "metadata": {},
   "source": [
    "##  main.cpp\n",
    "##  DfUSMC: Depth from Uncalibrated Small Motion Clip"
   ]
  },
  {
   "cell_type": "code",
   "execution_count": 1,
   "id": "excited-vitamin",
   "metadata": {},
   "outputs": [],
   "source": [
    "import os\n",
    "import DfUSMC_class"
   ]
  },
  {
   "cell_type": "code",
   "execution_count": 2,
   "id": "distributed-terminology",
   "metadata": {},
   "outputs": [],
   "source": [
    "input_dataname = \"sample.mp4\""
   ]
  },
  {
   "cell_type": "code",
   "execution_count": 3,
   "id": "specific-feedback",
   "metadata": {},
   "outputs": [],
   "source": [
    "df = DfUSMC_class.DfUSMC()"
   ]
  },
  {
   "cell_type": "code",
   "execution_count": 4,
   "id": "liquid-upgrade",
   "metadata": {},
   "outputs": [
    {
     "name": "stdout",
     "output_type": "stream",
     "text": [
      "num frame :  110.0\n",
      "image size:  1080.0   2400.0\n",
      "we use  27  images in the beginning.\n",
      "load done\n"
     ]
    }
   ],
   "source": [
    "df.load_small_motion_clip(input_dataname, 1)"
   ]
  },
  {
   "cell_type": "code",
   "execution_count": null,
   "id": "marine-korea",
   "metadata": {},
   "outputs": [],
   "source": []
  },
  {
   "cell_type": "code",
   "execution_count": null,
   "id": "controversial-probe",
   "metadata": {},
   "outputs": [],
   "source": []
  },
  {
   "cell_type": "code",
   "execution_count": null,
   "id": "accessory-wilderness",
   "metadata": {},
   "outputs": [],
   "source": []
  }
 ],
 "metadata": {
  "kernelspec": {
   "display_name": "Python 3",
   "language": "python",
   "name": "python3"
  },
  "language_info": {
   "codemirror_mode": {
    "name": "ipython",
    "version": 3
   },
   "file_extension": ".py",
   "mimetype": "text/x-python",
   "name": "python",
   "nbconvert_exporter": "python",
   "pygments_lexer": "ipython3",
   "version": "3.6.9"
  }
 },
 "nbformat": 4,
 "nbformat_minor": 5
}
